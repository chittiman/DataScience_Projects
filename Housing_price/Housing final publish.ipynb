{
 "cells": [
  {
   "cell_type": "markdown",
   "metadata": {},
   "source": [
    "## Introduction"
   ]
  },
  {
   "cell_type": "markdown",
   "metadata": {},
   "source": [
    "We need to predict the final price of each home using several explanatory variables"
   ]
  },
  {
   "cell_type": "code",
   "execution_count": 1,
   "metadata": {},
   "outputs": [],
   "source": [
    "import numpy as np\n",
    "import pandas as pd"
   ]
  },
  {
   "cell_type": "markdown",
   "metadata": {},
   "source": [
    "Loading the dataset using read_csv function"
   ]
  },
  {
   "cell_type": "code",
   "execution_count": 2,
   "metadata": {},
   "outputs": [],
   "source": [
    "housing = pd.read_csv('train.csv')"
   ]
  },
  {
   "cell_type": "code",
   "execution_count": 3,
   "metadata": {},
   "outputs": [
    {
     "data": {
      "text/plain": [
       "LotFrontage      259\n",
       "Alley           1369\n",
       "MasVnrType         8\n",
       "MasVnrArea         8\n",
       "BsmtQual          37\n",
       "BsmtCond          37\n",
       "BsmtExposure      38\n",
       "BsmtFinType1      37\n",
       "BsmtFinType2      38\n",
       "Electrical         1\n",
       "FireplaceQu      690\n",
       "GarageType        81\n",
       "GarageYrBlt       81\n",
       "GarageFinish      81\n",
       "GarageQual        81\n",
       "GarageCond        81\n",
       "PoolQC          1453\n",
       "Fence           1179\n",
       "MiscFeature     1406\n",
       "dtype: int64"
      ]
     },
     "execution_count": 3,
     "metadata": {},
     "output_type": "execute_result"
    }
   ],
   "source": [
    "housing.isnull().sum()[housing.isnull().sum() != 0]"
   ]
  },
  {
   "cell_type": "markdown",
   "metadata": {},
   "source": [
    "Missing values for numerical columns are filled with the median value and for the categorical values are filled with the most frequent observation(mode). "
   ]
  },
  {
   "cell_type": "code",
   "execution_count": 4,
   "metadata": {},
   "outputs": [],
   "source": [
    "Lotfront_median = housing['LotFrontage'].median()\n",
    "MSZoning_mode = housing['MSZoning'].mode()[0]\n",
    "Utilities_mode = housing['Utilities'].mode()[0]"
   ]
  },
  {
   "cell_type": "markdown",
   "metadata": {},
   "source": [
    "In some of the columns when a particular feature is absent, it is filled with 'NO'. So, for the missing values in those coluomns it makes sense to fill the missing values with same value"
   ]
  },
  {
   "cell_type": "code",
   "execution_count": 5,
   "metadata": {},
   "outputs": [],
   "source": [
    "housing['LotFrontage'].fillna(Lotfront_median,inplace = True )\n",
    "\n",
    "housing['FireplaceQu'].fillna('NO',inplace = True)\n",
    "housing['GarageYrBlt'].fillna(0,inplace = True)\n",
    "housing['GarageType'].fillna('NO',inplace = True)\n",
    "housing['GarageQual'].fillna('NO',inplace = True)\n",
    "housing['GarageCond'].fillna('NO',inplace = True)\n",
    "housing['GarageFinish'].fillna('NO',inplace = True)\n",
    "housing['BsmtQual'].fillna('NO',inplace = True)\n",
    "housing['BsmtCond'].fillna('NO',inplace = True)\n",
    "housing['BsmtExposure'].fillna('NO',inplace = True)\n",
    "housing['BsmtFinType1'].fillna('NO',inplace = True)\n",
    "housing['BsmtFinType2'].fillna('NO',inplace = True)\n",
    "housing['MasVnrType'].fillna('NO',inplace = True)\n",
    "housing['MasVnrArea'].fillna(0,inplace = True)\n",
    "housing['Alley'].fillna('NO',inplace = True)\n",
    "housing['PoolQC'].fillna('NO',inplace = True)\n",
    "housing['Fence'].fillna('NO',inplace = True)\n",
    "housing['MiscFeature'].fillna('NO',inplace = True)\n",
    "\n",
    "Electrical_mode = housing['Electrical'].mode()[0] \n",
    "housing['Electrical'].fillna(Electrical_mode,inplace = True)"
   ]
  },
  {
   "cell_type": "code",
   "execution_count": 6,
   "metadata": {},
   "outputs": [
    {
     "data": {
      "text/plain": [
       "Series([], dtype: int64)"
      ]
     },
     "execution_count": 6,
     "metadata": {},
     "output_type": "execute_result"
    }
   ],
   "source": [
    "housing.isnull().sum()[housing.isnull().sum()!=0]"
   ]
  },
  {
   "cell_type": "markdown",
   "metadata": {},
   "source": [
    "When the distribution of a numerical column is highly skewed, it becomes slightly difficult. So, bring the distribution cloer to the normal or to reduce the skew in distribution sometimes we take the logarithm of the distribution.\n",
    "\n",
    "Also some of the classifiers work better when the values in numerical columns are standardized"
   ]
  },
  {
   "cell_type": "code",
   "execution_count": 7,
   "metadata": {},
   "outputs": [],
   "source": [
    "housing['SalePrice_log'] = np.log10(housing['SalePrice'])\n",
    "housing['LotArea_log'] = np.log10(housing['LotArea'])\n",
    "housing['Area_Qual'] = np.log10(housing['LotArea_log']*housing['OverallQual'])\n",
    "housing['Age'] = housing['YrSold'] - housing['YearBuilt']\n",
    "housing['Area_Cond'] = housing['LotArea_log']*housing['OverallCond']\n",
    "housing['GrLivArea_log'] = np.log10(housing['GrLivArea'])\n",
    "housing['MoSold_sqr'] = housing['MoSold']**2\n",
    "housing['A/C'] = (housing['CentralAir'] == 'Y').astype(int)\n",
    "\n",
    "housing['LotArea_sqr'] = housing['LotArea']**2\n",
    "housing['TotalBsmtSF_log'] = np.log10(1+housing['TotalBsmtSF'])\n",
    "housing['LotArea_std'] = (housing['LotArea'] - housing['LotArea'].mean())/(housing['LotArea'].std())\n",
    "housing['Area_Qual_std'] = (housing['Area_Qual'] - housing['Area_Qual'].mean())/(housing['Area_Qual'].std())\n",
    "housing['Area_Cond_std'] = (housing['Area_Cond'] - housing['Area_Cond'].mean())/(housing['Area_Cond'].std())\n",
    "housing['GrLivArea_log_std'] = (housing['GrLivArea_log'] - housing['GrLivArea_log'].mean())/(housing['GrLivArea_log'].std())\n",
    "housing['LotArea_sqr_std'] = (housing['LotArea_sqr'] - housing['LotArea_sqr'].mean())/(housing['LotArea_sqr'].std())\n",
    "housing['TotalBsmtSF_log_std'] = (housing['TotalBsmtSF_log'] -\\\n",
    "                                  housing['TotalBsmtSF_log'].mean())/(housing['TotalBsmtSF_log'].std())                                                                         "
   ]
  },
  {
   "cell_type": "markdown",
   "metadata": {},
   "source": [
    "For categorical variables, onehot encoding is performed using the get_dummies function"
   ]
  },
  {
   "cell_type": "code",
   "execution_count": 8,
   "metadata": {},
   "outputs": [],
   "source": [
    "housing_dummies = pd.get_dummies(housing,columns= ['MSZoning','MSSubClass','Street','Alley','LandContour',\n",
    "                        'Neighborhood','Condition1','Condition2','HouseStyle','MasVnrType','ExterCond','Heating',\n",
    "                                                   'Functional','MiscFeature','SaleType','BsmtCond','BsmtExposure',\n",
    "                                                   'BsmtFinType1','HeatingQC','CentralAir','KitchenQual','FireplaceQu',\n",
    "                                                   'GarageCond',])"
   ]
  },
  {
   "cell_type": "markdown",
   "metadata": {},
   "source": [
    "Condition1 and Condition2 columns gives information about proximity to various facilities. Both of them have identical values. So, to avoid duplication we are adding the corresponding dummy columns "
   ]
  },
  {
   "cell_type": "code",
   "execution_count": 9,
   "metadata": {},
   "outputs": [],
   "source": [
    "housing_cols = list(housing.columns)\n",
    "housing_dummy_cols = list(housing_dummies.columns)"
   ]
  },
  {
   "cell_type": "code",
   "execution_count": 10,
   "metadata": {},
   "outputs": [],
   "source": [
    "for col in ['Feedr','RRAn','PosN','RRAe','PosA','RRNn','RRNe']:\n",
    "    col1 = \"Condition1_\" + col\n",
    "    col2 = \"Condition2_\" + col\n",
    "    if col2 in housing_dummy_cols:\n",
    "        housing_dummies[col] = housing_dummies[col1] +housing_dummies[col2]\n",
    "    else:\n",
    "        housing_dummies[col] = housing_dummies[col1]"
   ]
  },
  {
   "cell_type": "markdown",
   "metadata": {},
   "source": [
    "There are several categorical features in this dataset. For each feature, they are converted into categorical columns and then \n",
    "these new features are fed into the classifier and then the performance of the calssifier has been analysed and finally the best possible features have been selected."
   ]
  },
  {
   "cell_type": "code",
   "execution_count": 11,
   "metadata": {},
   "outputs": [],
   "source": [
    "features_all = list(housing_dummies)\n",
    "label_cols = ['Id', 'SalePrice','SalePrice_log']"
   ]
  },
  {
   "cell_type": "code",
   "execution_count": 12,
   "metadata": {},
   "outputs": [],
   "source": [
    "feature_data = housing_dummies[features_all]\n",
    "label_data = housing_dummies[label_cols]"
   ]
  },
  {
   "cell_type": "markdown",
   "metadata": {},
   "source": [
    "After the preprocessing, entire data have been split into training and validation datasets and then linear regression is performed on all these features to predict the final value of dataset"
   ]
  },
  {
   "cell_type": "code",
   "execution_count": 13,
   "metadata": {},
   "outputs": [],
   "source": [
    "from sklearn.model_selection import train_test_split\n",
    "\n",
    "feature_train,feature_cv,label_train,label_cv =  train_test_split(feature_data.values,label_data.values,test_size = 0.3,random_state = 0)"
   ]
  },
  {
   "cell_type": "code",
   "execution_count": 14,
   "metadata": {},
   "outputs": [],
   "source": [
    "feature_train = pd.DataFrame(feature_train,columns = features_all)\n",
    "feature_cv = pd.DataFrame(feature_cv,columns = features_all)\n",
    "label_train = pd.DataFrame(label_train,columns = label_cols)\n",
    "label_cv = pd.DataFrame(label_cv,columns = label_cols)"
   ]
  },
  {
   "cell_type": "code",
   "execution_count": 15,
   "metadata": {},
   "outputs": [
    {
     "name": "stdout",
     "output_type": "stream",
     "text": [
      "Series([], dtype: int64)\n",
      "Series([], dtype: int64)\n",
      "Series([], dtype: int64)\n",
      "Series([], dtype: int64)\n"
     ]
    }
   ],
   "source": [
    "for df in [feature_train,feature_cv,label_train,label_cv]:\n",
    "    print(df.isnull().sum()[df.isnull().sum() != 0])"
   ]
  },
  {
   "cell_type": "code",
   "execution_count": 16,
   "metadata": {},
   "outputs": [],
   "source": [
    "features = ['LotArea_std','Area_Qual_std','Age','OverallCond','Area_Cond_std','GrLivArea_log_std',\n",
    "           'BsmtFullBath', 'BsmtHalfBath', 'FullBath', 'HalfBath','BedroomAbvGr',\n",
    "           'KitchenAbvGr','Fireplaces','GarageCars','WoodDeckSF', 'OpenPorchSF', 'EnclosedPorch', '3SsnPorch', \n",
    "            'ScreenPorch','MoSold_sqr','MoSold','MSZoning_FV', 'MSZoning_RH', 'MSZoning_RL', 'MSZoning_RM',\n",
    "            'MSSubClass_20', 'MSSubClass_30', 'MSSubClass_40', 'MSSubClass_45', 'MSSubClass_50', 'MSSubClass_60',\n",
    "            'MSSubClass_70', 'MSSubClass_75', 'MSSubClass_80', 'MSSubClass_85', 'MSSubClass_90', 'MSSubClass_120', \n",
    "            'MSSubClass_160', 'MSSubClass_180', 'MSSubClass_190','Street_Grvl','Alley_Grvl', 'Alley_Pave',\n",
    "           'LandContour_Bnk', 'LandContour_HLS', 'LandContour_Low', 'Neighborhood_Blueste', 'Neighborhood_BrDale',\n",
    "            'Neighborhood_BrkSide', 'Neighborhood_ClearCr', 'Neighborhood_CollgCr', 'Neighborhood_Crawfor',\n",
    "            'Neighborhood_Edwards', 'Neighborhood_Gilbert', 'Neighborhood_IDOTRR', 'Neighborhood_MeadowV',\n",
    "            'Neighborhood_Mitchel', 'Neighborhood_NAmes', 'Neighborhood_NPkVill', 'Neighborhood_NWAmes', \n",
    "            'Neighborhood_NoRidge', 'Neighborhood_NridgHt', 'Neighborhood_OldTown', 'Neighborhood_SWISU', \n",
    "            'Neighborhood_Sawyer', 'Neighborhood_SawyerW', 'Neighborhood_Somerst', 'Neighborhood_StoneBr',\n",
    "            'Neighborhood_Timber', 'Neighborhood_Veenker', 'Feedr','RRAn','PosN','RRAe','PosA','RRNn','RRNe'\n",
    "            , 'HouseStyle_1.5Fin', 'HouseStyle_1.5Unf', 'HouseStyle_1Story', 'HouseStyle_2.5Unf',\n",
    "            'HouseStyle_2Story', 'HouseStyle_SFoyer', 'HouseStyle_SLvl','MasVnrType_BrkCmn', 'MasVnrType_BrkFace',\n",
    "            'MasVnrType_Stone','ExterCond_Ex', 'ExterCond_Fa', 'ExterCond_Gd', 'ExterCond_Po',\n",
    "            'Heating_GasA', 'Heating_GasW', 'Heating_Grav', 'Heating_Wall','Functional_Maj1', 'Functional_Maj2',\n",
    "            'Functional_Min1', 'Functional_Min2', 'Functional_Mod', 'Functional_Sev', 'BsmtCond_Fa', 'BsmtCond_Gd',\n",
    "            'BsmtCond_NO', 'BsmtCond_Po', 'BsmtCond_TA', 'BsmtExposure_Av', 'BsmtExposure_Gd', 'BsmtExposure_Mn',\n",
    "            'BsmtFinType1_ALQ', 'BsmtFinType1_BLQ', 'BsmtFinType1_GLQ', 'BsmtFinType1_LwQ', 'BsmtFinType1_Rec', \n",
    "            'BsmtFinType1_Unf', 'HeatingQC_Ex', 'HeatingQC_Fa', 'HeatingQC_Gd', 'HeatingQC_TA','CentralAir_Y',\n",
    "            'KitchenQual_Ex', 'KitchenQual_Fa', 'KitchenQual_Gd','FireplaceQu_Ex', 'FireplaceQu_Fa', \n",
    "            'FireplaceQu_Gd', 'FireplaceQu_Po', 'FireplaceQu_TA','GarageCond_Ex', 'GarageCond_Fa', 'GarageCond_Gd',\n",
    "             'GarageCond_Po', 'GarageCond_TA','LotArea_sqr_std','TotalBsmtSF_log_std','YrSold'\n",
    "           \n",
    "         ]"
   ]
  },
  {
   "cell_type": "code",
   "execution_count": 17,
   "metadata": {},
   "outputs": [],
   "source": [
    "X_train = pd.DataFrame(feature_train,columns = features).values\n",
    "X_cv = pd.DataFrame(feature_cv,columns = features).values\n",
    "y_train = pd.Series(label_train['SalePrice_log']).values\n",
    "y_cv = pd.Series(label_cv['SalePrice_log']).values"
   ]
  },
  {
   "cell_type": "code",
   "execution_count": 18,
   "metadata": {},
   "outputs": [
    {
     "data": {
      "text/plain": [
       "Series([], dtype: int64)"
      ]
     },
     "execution_count": 18,
     "metadata": {},
     "output_type": "execute_result"
    }
   ],
   "source": [
    "pd.DataFrame(feature_train,columns = features).isnull().sum()[pd.DataFrame(feature_train,columns = features).isnull().sum()!=0]"
   ]
  },
  {
   "cell_type": "code",
   "execution_count": 19,
   "metadata": {},
   "outputs": [
    {
     "data": {
      "text/plain": [
       "LinearRegression(copy_X=True, fit_intercept=True, n_jobs=1, normalize=False)"
      ]
     },
     "execution_count": 19,
     "metadata": {},
     "output_type": "execute_result"
    }
   ],
   "source": [
    "from sklearn.linear_model import LinearRegression\n",
    "reg = LinearRegression()\n",
    "\n",
    "reg.fit(X_train,y_train)"
   ]
  },
  {
   "cell_type": "code",
   "execution_count": 20,
   "metadata": {},
   "outputs": [],
   "source": [
    "pred_train = reg.predict(X_train)\n",
    "pred_cv = reg.predict(X_cv)"
   ]
  },
  {
   "cell_type": "code",
   "execution_count": 21,
   "metadata": {},
   "outputs": [
    {
     "name": "stdout",
     "output_type": "stream",
     "text": [
      "Train_score = 0.9293752039827229\n",
      "Crossvalidation_score = 0.893922392154645\n"
     ]
    }
   ],
   "source": [
    "print(\"Train_score = \" + str(reg.score(X_train,y_train)))\n",
    "print(\"Crossvalidation_score = \" + str(reg.score(X_cv,y_cv)))"
   ]
  },
  {
   "cell_type": "code",
   "execution_count": 22,
   "metadata": {},
   "outputs": [
    {
     "name": "stdout",
     "output_type": "stream",
     "text": [
      "Train_error = 0.0021520969062887555\n",
      "Crossvalidation_error = 0.0030913780749118646\n"
     ]
    }
   ],
   "source": [
    "from sklearn.metrics import mean_squared_error\n",
    "print(\"Train_error = \" + str(mean_squared_error(pred_train,y_train)))\n",
    "print(\"Crossvalidation_error = \" + str(mean_squared_error(pred_cv,y_cv)))"
   ]
  },
  {
   "cell_type": "markdown",
   "metadata": {},
   "source": [
    "After loading the test set all these  above preprocessing operations have been performed on the test dataset"
   ]
  },
  {
   "cell_type": "code",
   "execution_count": 23,
   "metadata": {},
   "outputs": [],
   "source": [
    "housing_test = pd.read_csv('test.csv')"
   ]
  },
  {
   "cell_type": "code",
   "execution_count": 24,
   "metadata": {},
   "outputs": [],
   "source": [
    "MSZoning_mode = housing['MSZoning'].mode()[0]\n",
    "Utilities_mode = housing['Utilities'].mode()[0]"
   ]
  },
  {
   "cell_type": "code",
   "execution_count": 25,
   "metadata": {},
   "outputs": [],
   "source": [
    "housing_test['MSZoning'].fillna(MSZoning_mode,inplace = True )\n",
    "housing_test['Utilities'].fillna(Utilities_mode,inplace = True )\n",
    "housing_test['Exterior1st'].fillna('Other',inplace = True)\n",
    "housing_test['Exterior2nd'].fillna('Other',inplace = True)\n",
    "housing_test['BsmtFinSF1'].fillna(0,inplace = True)\n",
    "housing_test['BsmtFinSF2'].fillna(0,inplace = True)\n",
    "housing_test['BsmtUnfSF'].fillna(0,inplace = True)\n",
    "housing_test['TotalBsmtSF'].fillna(0,inplace = True)\n",
    "housing_test['BsmtFullBath'].fillna(0,inplace = True)\n",
    "housing_test['BsmtHalfBath'].fillna(0,inplace = True)\n",
    "housing_test['GarageCars'].fillna(0,inplace = True)\n",
    "housing_test['GarageArea'].fillna(0,inplace = True)\n",
    "housing_test['KitchenQual'].fillna('Po',inplace = True)\n",
    "housing_test['Functional'].fillna('Typ',inplace = True)\n",
    "housing_test['SaleType'].fillna('Oth',inplace = True)\n",
    "\n",
    "\n",
    "\n",
    "housing_test['LotFrontage'].fillna(Lotfront_median,inplace = True )\n",
    "\n",
    "housing_test['FireplaceQu'].fillna('NO',inplace = True)\n",
    "housing_test['GarageYrBlt'].fillna(0,inplace = True)\n",
    "housing_test['GarageType'].fillna('NO',inplace = True)\n",
    "housing_test['GarageQual'].fillna('NO',inplace = True)\n",
    "housing_test['GarageCond'].fillna('NO',inplace = True)\n",
    "housing_test['GarageFinish'].fillna('NO',inplace = True)\n",
    "housing_test['BsmtQual'].fillna('NO',inplace = True)\n",
    "housing_test['BsmtCond'].fillna('NO',inplace = True)\n",
    "housing_test['BsmtExposure'].fillna('NO',inplace = True)\n",
    "housing_test['BsmtFinType1'].fillna('NO',inplace = True)\n",
    "housing_test['BsmtFinType2'].fillna('NO',inplace = True)\n",
    "housing_test['MasVnrType'].fillna('NO',inplace = True)\n",
    "housing_test['MasVnrArea'].fillna(0,inplace = True)\n",
    "housing_test['Alley'].fillna('NO',inplace = True)\n",
    "housing_test['PoolQC'].fillna('NO',inplace = True)\n",
    "housing_test['Fence'].fillna('NO',inplace = True)\n",
    "housing_test['MiscFeature'].fillna('NO',inplace = True)\n",
    "\n",
    "Electrical_mode = housing['Electrical'].mode()[0] \n",
    "housing_test['Electrical'].fillna(Electrical_mode,inplace = True)\n",
    "\n"
   ]
  },
  {
   "cell_type": "code",
   "execution_count": 26,
   "metadata": {},
   "outputs": [],
   "source": [
    "housing_test['LotArea_log'] = np.log10(housing_test['LotArea'])\n",
    "housing_test['Area_Qual'] = housing_test['LotArea_log']*housing_test['OverallQual']\n",
    "housing_test['Age'] = housing_test['YrSold'] - housing_test['YearBuilt']\n",
    "housing_test['Area_Cond'] = housing_test['LotArea_log']*housing_test['OverallCond']\n",
    "housing_test['GrLivArea_log'] = np.log10(housing_test['GrLivArea'])\n",
    "housing_test['MoSold_sqr'] = housing_test['MoSold']**2\n",
    "housing_test['A/C'] = (housing_test['CentralAir'] == 'Y').astype(int)\n",
    "housing_test['LotArea_sqr'] = housing_test['LotArea']**2\n",
    "\n",
    "housing_test['TotalBsmtSF_log'] = np.log10(1+housing_test['TotalBsmtSF'])\n"
   ]
  },
  {
   "cell_type": "code",
   "execution_count": 27,
   "metadata": {},
   "outputs": [],
   "source": [
    "housing_test['LotArea_std'] = (housing_test['LotArea'] - housing_test['LotArea'].mean())/(housing_test['LotArea'].std())\n",
    "housing_test['Area_Qual_std'] = (housing_test['Area_Qual'] - housing_test['Area_Qual'].mean())/(housing_test['Area_Qual'].std())\n",
    "housing_test['Area_Cond_std'] = (housing_test['Area_Cond'] - housing_test['Area_Cond'].mean())/(housing_test['Area_Cond'].std())\n",
    "housing_test['GrLivArea_log_std'] = (housing_test['GrLivArea_log'] - housing_test['GrLivArea_log'].mean())/(housing_test['GrLivArea_log'].std())\n",
    "housing_test['LotArea_sqr_std'] = (housing_test['LotArea_sqr'] - housing_test['LotArea_sqr'].mean())/(housing_test['LotArea_sqr'].std())\n",
    "housing_test['TotalBsmtSF_log_std'] = (housing_test['TotalBsmtSF_log'] - housing_test['TotalBsmtSF_log'].mean())/(housing_test['TotalBsmtSF_log'].std())\n"
   ]
  },
  {
   "cell_type": "code",
   "execution_count": 28,
   "metadata": {},
   "outputs": [],
   "source": [
    "housing_test_dummies = pd.get_dummies(housing_test,columns= ['MSZoning','MSSubClass','Street','Alley','LandContour',\n",
    "                        'Neighborhood','Condition1','Condition2','HouseStyle','MasVnrType','ExterCond','Heating',\n",
    "                                                   'Functional','MiscFeature','SaleType','BsmtCond','BsmtExposure',\n",
    "                                                   'BsmtFinType1','HeatingQC','CentralAir','KitchenQual','FireplaceQu',\n",
    "                                                   'GarageCond',])"
   ]
  },
  {
   "cell_type": "code",
   "execution_count": 29,
   "metadata": {},
   "outputs": [],
   "source": [
    "housing_dummy_cols = list(housing_test_dummies.columns)"
   ]
  },
  {
   "cell_type": "code",
   "execution_count": 30,
   "metadata": {},
   "outputs": [],
   "source": [
    "for col in ['Feedr','RRAn','PosN','RRAe','PosA','RRNn','RRNe']:\n",
    "    col1 = \"Condition1_\" + col\n",
    "    col2 = \"Condition2_\" + col\n",
    "    if col2 in housing_dummy_cols:\n",
    "        housing_test_dummies[col] = housing_test_dummies[col1] +housing_test_dummies[col2]\n",
    "    else:\n",
    "        housing_test_dummies[col] = housing_test_dummies[col1]"
   ]
  },
  {
   "cell_type": "code",
   "execution_count": 31,
   "metadata": {},
   "outputs": [],
   "source": [
    "test_data = housing_test_dummies[features]"
   ]
  },
  {
   "cell_type": "markdown",
   "metadata": {},
   "source": [
    "Since the logarithmic function has been applied to the final sale price in training set, the output for test set will also be logarithm of sale price. So, the output has to be raised to the power of 10 to get the actual saleprice. And finally dataframe is converted into csv file using read_csv function"
   ]
  },
  {
   "cell_type": "code",
   "execution_count": 32,
   "metadata": {},
   "outputs": [],
   "source": [
    "housing_test['SalePrice_log'] = reg.predict(test_data.values)\n",
    "\n",
    "housing_test['SalePrice'] = 10**housing_test['SalePrice_log']"
   ]
  },
  {
   "cell_type": "code",
   "execution_count": 33,
   "metadata": {},
   "outputs": [],
   "source": [
    "housing_submit = housing_test[['Id','SalePrice']]\n",
    "housing_submit.head()\n",
    "housing_submit.to_csv('Final_Predn_complete_data_quality_var_interxn_and_standardization_on_whole.csv',index = False)"
   ]
  }
 ],
 "metadata": {
  "kernelspec": {
   "display_name": "Python 3",
   "language": "python",
   "name": "python3"
  },
  "language_info": {
   "codemirror_mode": {
    "name": "ipython",
    "version": 3
   },
   "file_extension": ".py",
   "mimetype": "text/x-python",
   "name": "python",
   "nbconvert_exporter": "python",
   "pygments_lexer": "ipython3",
   "version": "3.6.5"
  }
 },
 "nbformat": 4,
 "nbformat_minor": 2
}
