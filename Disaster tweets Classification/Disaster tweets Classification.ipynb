{
 "cells": [
  {
   "cell_type": "code",
   "execution_count": 1,
   "metadata": {},
   "outputs": [],
   "source": [
    "import numpy as np\n",
    "import pandas as pd\n",
    "import matplotlib.pyplot as plt\n",
    "import seaborn as sns\n",
    "import warnings;\n",
    "warnings.filterwarnings('ignore');\n",
    "import spacy\n",
    "import re\n",
    "from nltk.tokenize import regexp_tokenize,TweetTokenizer\n",
    "from nltk import word_tokenize,sent_tokenize\n",
    "from nltk.corpus import stopwords\n",
    "from spacy.tokens import Span,Token\n",
    "nlp = spacy.load('en_core_web_md')\n",
    "pd.set_option('display.max_colwidth', -1)\n",
    "from collections import Counter\n",
    "from sklearn.model_selection import train_test_split\n",
    "from sklearn.feature_extraction.text import CountVectorizer,TfidfVectorizer\n",
    "from sklearn import metrics \n",
    "from sklearn.naive_bayes import MultinomialNB \n",
    "from sklearn.linear_model import LogisticRegression\n",
    "from spellchecker import SpellChecker\n",
    "import string"
   ]
  },
  {
   "cell_type": "code",
   "execution_count": 2,
   "metadata": {},
   "outputs": [],
   "source": [
    "df_raw = pd.read_csv('train.csv')\n",
    "df_test = pd.read_csv('test.csv')"
   ]
  },
  {
   "cell_type": "code",
   "execution_count": 3,
   "metadata": {},
   "outputs": [
    {
     "data": {
      "text/html": [
       "<div>\n",
       "<style scoped>\n",
       "    .dataframe tbody tr th:only-of-type {\n",
       "        vertical-align: middle;\n",
       "    }\n",
       "\n",
       "    .dataframe tbody tr th {\n",
       "        vertical-align: top;\n",
       "    }\n",
       "\n",
       "    .dataframe thead th {\n",
       "        text-align: right;\n",
       "    }\n",
       "</style>\n",
       "<table border=\"1\" class=\"dataframe\">\n",
       "  <thead>\n",
       "    <tr style=\"text-align: right;\">\n",
       "      <th></th>\n",
       "      <th>id</th>\n",
       "      <th>keyword</th>\n",
       "      <th>location</th>\n",
       "      <th>text</th>\n",
       "      <th>target</th>\n",
       "    </tr>\n",
       "  </thead>\n",
       "  <tbody>\n",
       "    <tr>\n",
       "      <th>0</th>\n",
       "      <td>1</td>\n",
       "      <td>NaN</td>\n",
       "      <td>NaN</td>\n",
       "      <td>Our Deeds are the Reason of this #earthquake May ALLAH Forgive us all</td>\n",
       "      <td>1</td>\n",
       "    </tr>\n",
       "    <tr>\n",
       "      <th>1</th>\n",
       "      <td>4</td>\n",
       "      <td>NaN</td>\n",
       "      <td>NaN</td>\n",
       "      <td>Forest fire near La Ronge Sask. Canada</td>\n",
       "      <td>1</td>\n",
       "    </tr>\n",
       "    <tr>\n",
       "      <th>2</th>\n",
       "      <td>5</td>\n",
       "      <td>NaN</td>\n",
       "      <td>NaN</td>\n",
       "      <td>All residents asked to 'shelter in place' are being notified by officers. No other evacuation or shelter in place orders are expected</td>\n",
       "      <td>1</td>\n",
       "    </tr>\n",
       "    <tr>\n",
       "      <th>3</th>\n",
       "      <td>6</td>\n",
       "      <td>NaN</td>\n",
       "      <td>NaN</td>\n",
       "      <td>13,000 people receive #wildfires evacuation orders in California</td>\n",
       "      <td>1</td>\n",
       "    </tr>\n",
       "    <tr>\n",
       "      <th>4</th>\n",
       "      <td>7</td>\n",
       "      <td>NaN</td>\n",
       "      <td>NaN</td>\n",
       "      <td>Just got sent this photo from Ruby #Alaska as smoke from #wildfires pours into a school</td>\n",
       "      <td>1</td>\n",
       "    </tr>\n",
       "  </tbody>\n",
       "</table>\n",
       "</div>"
      ],
      "text/plain": [
       "   id keyword location  \\\n",
       "0  1   NaN     NaN       \n",
       "1  4   NaN     NaN       \n",
       "2  5   NaN     NaN       \n",
       "3  6   NaN     NaN       \n",
       "4  7   NaN     NaN       \n",
       "\n",
       "                                                                                                                                    text  \\\n",
       "0  Our Deeds are the Reason of this #earthquake May ALLAH Forgive us all                                                                   \n",
       "1  Forest fire near La Ronge Sask. Canada                                                                                                  \n",
       "2  All residents asked to 'shelter in place' are being notified by officers. No other evacuation or shelter in place orders are expected   \n",
       "3  13,000 people receive #wildfires evacuation orders in California                                                                        \n",
       "4  Just got sent this photo from Ruby #Alaska as smoke from #wildfires pours into a school                                                 \n",
       "\n",
       "   target  \n",
       "0  1       \n",
       "1  1       \n",
       "2  1       \n",
       "3  1       \n",
       "4  1       "
      ]
     },
     "execution_count": 3,
     "metadata": {},
     "output_type": "execute_result"
    }
   ],
   "source": [
    "df_raw.head()\n",
    "#If the tweet is disaster related then target = 1, or else 0"
   ]
  },
  {
   "cell_type": "code",
   "execution_count": 4,
   "metadata": {},
   "outputs": [
    {
     "name": "stdout",
     "output_type": "stream",
     "text": [
      "<class 'pandas.core.frame.DataFrame'>\n",
      "RangeIndex: 7613 entries, 0 to 7612\n",
      "Data columns (total 5 columns):\n",
      "id          7613 non-null int64\n",
      "keyword     7552 non-null object\n",
      "location    5080 non-null object\n",
      "text        7613 non-null object\n",
      "target      7613 non-null int64\n",
      "dtypes: int64(2), object(3)\n",
      "memory usage: 297.5+ KB\n"
     ]
    }
   ],
   "source": [
    "df_raw.info()\n",
    "#Location information is absent in lot of cases"
   ]
  },
  {
   "cell_type": "code",
   "execution_count": 5,
   "metadata": {},
   "outputs": [
    {
     "data": {
      "text/plain": [
       "0    0.57034\n",
       "1    0.42966\n",
       "Name: target, dtype: float64"
      ]
     },
     "execution_count": 5,
     "metadata": {},
     "output_type": "execute_result"
    }
   ],
   "source": [
    "df_raw.target.value_counts(normalize=True)\n",
    "#Not an imbalanced dataset"
   ]
  },
  {
   "cell_type": "code",
   "execution_count": 6,
   "metadata": {},
   "outputs": [
    {
     "data": {
      "text/plain": [
       "NaN            61\n",
       "fatalities     45\n",
       "armageddon     42\n",
       "deluge         42\n",
       "body%20bags    41\n",
       "sinking        41\n",
       "damage         41\n",
       "harm           41\n",
       "collided       40\n",
       "fear           40\n",
       "Name: keyword, dtype: int64"
      ]
     },
     "execution_count": 6,
     "metadata": {},
     "output_type": "execute_result"
    }
   ],
   "source": [
    "df_raw.keyword.value_counts(dropna=False)[:10]"
   ]
  },
  {
   "cell_type": "code",
   "execution_count": 7,
   "metadata": {
    "cell_style": "split"
   },
   "outputs": [
    {
     "data": {
      "text/plain": [
       "False    0.845736\n",
       "True     0.154264\n",
       "Name: keyword, dtype: float64"
      ]
     },
     "execution_count": 7,
     "metadata": {},
     "output_type": "execute_result"
    }
   ],
   "source": [
    "df_raw.keyword.str.contains('%20').value_counts(normalize = True)"
   ]
  },
  {
   "cell_type": "code",
   "execution_count": 8,
   "metadata": {
    "cell_style": "split"
   },
   "outputs": [
    {
     "data": {
      "text/plain": [
       "False    0.834106\n",
       "True     0.165894\n",
       "Name: keyword, dtype: float64"
      ]
     },
     "execution_count": 8,
     "metadata": {},
     "output_type": "execute_result"
    }
   ],
   "source": [
    "df_test.keyword.str.contains('%20').value_counts(normalize = True)"
   ]
  },
  {
   "cell_type": "code",
   "execution_count": 9,
   "metadata": {},
   "outputs": [],
   "source": [
    "#Replacing %20 with spaces\n",
    "df_raw['keyword'] = df_raw.keyword.str.replace('%20', ' ')\n",
    "df_test['keyword'] = df_test.keyword.str.replace('%20', ' ')"
   ]
  },
  {
   "cell_type": "code",
   "execution_count": 10,
   "metadata": {
    "cell_style": "split"
   },
   "outputs": [
    {
     "data": {
      "text/plain": [
       "NaN                  42\n",
       "wreckage             39\n",
       "outbreak             39\n",
       "derailment           39\n",
       "typhoon              37\n",
       "oil spill            37\n",
       "debris               37\n",
       "rescuers             32\n",
       "suicide bomb         32\n",
       "evacuated            32\n",
       "suicide bombing      32\n",
       "nuclear disaster     31\n",
       "razed                31\n",
       "suicide bomber       30\n",
       "earthquake           30\n",
       "airplane accident    30\n",
       "bridge collapse      29\n",
       "collision            29\n",
       "wildfire             29\n",
       "buildings on fire    28\n",
       "Name: keyword, dtype: int64"
      ]
     },
     "execution_count": 10,
     "metadata": {},
     "output_type": "execute_result"
    }
   ],
   "source": [
    "df_raw[df_raw.target == 1].\\\n",
    "keyword.value_counts(dropna=False)[:20]"
   ]
  },
  {
   "cell_type": "code",
   "execution_count": 11,
   "metadata": {
    "cell_style": "split"
   },
   "outputs": [
    {
     "data": {
      "text/plain": [
       "body bags      40\n",
       "harm           37\n",
       "armageddon     37\n",
       "wrecked        36\n",
       "deluge         36\n",
       "ruin           36\n",
       "siren          35\n",
       "fear           35\n",
       "twister        35\n",
       "explode        35\n",
       "panic          34\n",
       "aftershock     34\n",
       "screaming      34\n",
       "crush          33\n",
       "blaze          33\n",
       "traumatised    33\n",
       "sinking        33\n",
       "blizzard       33\n",
       "blazing        33\n",
       "curfew         32\n",
       "Name: keyword, dtype: int64"
      ]
     },
     "execution_count": 11,
     "metadata": {},
     "output_type": "execute_result"
    }
   ],
   "source": [
    "df_raw[df_raw.target == 0].\\\n",
    "keyword.value_counts(dropna=False)[:20]"
   ]
  },
  {
   "cell_type": "markdown",
   "metadata": {},
   "source": [
    "While the keywords for disaster tweets are specific, keywords for non disaster tweets are those which can be used in different context. May be keyword can be used later"
   ]
  },
  {
   "cell_type": "code",
   "execution_count": 12,
   "metadata": {},
   "outputs": [],
   "source": [
    "#df_raw.keyword.unique()"
   ]
  },
  {
   "cell_type": "code",
   "execution_count": 13,
   "metadata": {
    "cell_style": "split"
   },
   "outputs": [
    {
     "data": {
      "text/plain": [
       "False    0.671354\n",
       "True     0.328646\n",
       "Name: location, dtype: float64"
      ]
     },
     "execution_count": 13,
     "metadata": {},
     "output_type": "execute_result"
    }
   ],
   "source": [
    "df_raw[df_raw.target == 1].\\\n",
    "location.isna().value_counts(normalize = True)"
   ]
  },
  {
   "cell_type": "code",
   "execution_count": 14,
   "metadata": {
    "cell_style": "split"
   },
   "outputs": [
    {
     "data": {
      "text/plain": [
       "False    0.66421\n",
       "True     0.33579\n",
       "Name: location, dtype: float64"
      ]
     },
     "execution_count": 14,
     "metadata": {},
     "output_type": "execute_result"
    }
   ],
   "source": [
    "df_raw[df_raw.target == 0].\\\n",
    "location.isna().value_counts(normalize = True)"
   ]
  },
  {
   "cell_type": "markdown",
   "metadata": {},
   "source": [
    "Presence or absence of location is not much of a factor."
   ]
  },
  {
   "cell_type": "code",
   "execution_count": 15,
   "metadata": {
    "cell_style": "split"
   },
   "outputs": [
    {
     "data": {
      "text/plain": [
       "USA               0.030510\n",
       "United States     0.012295\n",
       "Nigeria           0.010018\n",
       "India             0.009107\n",
       "Mumbai            0.008652\n",
       "UK                0.007286\n",
       "New York          0.007286\n",
       "London            0.007286\n",
       "Washington, DC    0.006831\n",
       "Canada            0.005920\n",
       "Name: location, dtype: float64"
      ]
     },
     "execution_count": 15,
     "metadata": {},
     "output_type": "execute_result"
    }
   ],
   "source": [
    "df_raw[df_raw.target == 1].\\\n",
    "location.value_counts(normalize = True)[:10]"
   ]
  },
  {
   "cell_type": "code",
   "execution_count": 16,
   "metadata": {
    "cell_style": "split"
   },
   "outputs": [
    {
     "data": {
      "text/plain": [
       "New York           0.019071\n",
       "USA                0.012829\n",
       "London             0.010055\n",
       "United States      0.007975\n",
       "Los Angeles, CA    0.006241\n",
       "Canada             0.005548\n",
       "Kenya              0.005201\n",
       "Everywhere         0.004161\n",
       "Florida            0.003814\n",
       "UK                 0.003814\n",
       "Name: location, dtype: float64"
      ]
     },
     "execution_count": 16,
     "metadata": {},
     "output_type": "execute_result"
    }
   ],
   "source": [
    "df_raw[df_raw.target == 0].\\\n",
    "location.value_counts(normalize = True)[:10]"
   ]
  },
  {
   "cell_type": "code",
   "execution_count": 17,
   "metadata": {
    "cell_style": "split"
   },
   "outputs": [
    {
     "name": "stdout",
     "output_type": "stream",
     "text": [
      "count    7613.000000\n",
      "mean     101.037436 \n",
      "std      33.781325  \n",
      "min      7.000000   \n",
      "25%      78.000000  \n",
      "50%      107.000000 \n",
      "75%      133.000000 \n",
      "max      157.000000 \n",
      "Name: len_twt, dtype: float64\n"
     ]
    }
   ],
   "source": [
    "df_raw['len_twt'] = df_raw.text.str.len()\n",
    "print(df_raw.len_twt.describe())"
   ]
  },
  {
   "cell_type": "code",
   "execution_count": 18,
   "metadata": {
    "cell_style": "split",
    "scrolled": true
   },
   "outputs": [
    {
     "data": {
      "image/png": "[encoded data removed]",
      "text/plain": [
       "<Figure size 432x288 with 1 Axes>"
      ]
     },
     "metadata": {},
     "output_type": "display_data"
    }
   ],
   "source": [
    "plt.hist(df_raw.len_twt);"
   ]
  },
  {
   "cell_type": "code",
   "execution_count": 19,
   "metadata": {},
   "outputs": [],
   "source": [
    "def hashtag_extract(text):\n",
    "    return [hashtag.lower() for hashtag in re.findall(r'#([A-Za-z0-9]+)',text)]\n",
    "\n",
    "def hashtag_count(text):\n",
    "    return len([hashtag.lower() for hashtag in re.findall(r'#([A-Za-z0-9]+)',text)])\n",
    "\n",
    "def handle_extract(text):\n",
    "    return re.findall(r'@([A-Za-z0-9_]+)',text)\n",
    "\n",
    "def handle_count(text):\n",
    "    return len(re.findall(r'@([A-Za-z0-9_]+)',text))"
   ]
  },
  {
   "cell_type": "code",
   "execution_count": 20,
   "metadata": {
    "cell_style": "center"
   },
   "outputs": [],
   "source": [
    "df_raw['hashtags'] = df_raw.text.apply(hashtag_extract)\n",
    "df_raw['hashtag_count'] = df_raw.text.apply(hashtag_count)\n",
    "df_raw['handles'] = df_raw.text.apply(handle_extract)\n",
    "df_raw['handle_count'] = df_raw.text.apply(handle_count)\n",
    "\n",
    "df_test['hashtags'] = df_test.text.apply(hashtag_extract)\n",
    "df_test['hashtag_count'] = df_test.text.apply(hashtag_count)\n",
    "df_test['handles'] = df_test.text.apply(handle_extract)\n",
    "df_test['handle_count'] = df_test.text.apply(handle_count)"
   ]
  },
  {
   "cell_type": "code",
   "execution_count": 21,
   "metadata": {
    "cell_style": "split"
   },
   "outputs": [
    {
     "data": {
      "text/plain": [
       "False    0.737695\n",
       "True     0.262305\n",
       "Name: hashtag_count, dtype: float64"
      ]
     },
     "execution_count": 21,
     "metadata": {},
     "output_type": "execute_result"
    }
   ],
   "source": [
    "(df_raw[df_raw.target ==1].hashtag_count != 0).\\\n",
    "value_counts(normalize = True)"
   ]
  },
  {
   "cell_type": "code",
   "execution_count": 22,
   "metadata": {
    "cell_style": "split"
   },
   "outputs": [
    {
     "data": {
      "text/plain": [
       "False    0.796177\n",
       "True     0.203823\n",
       "Name: hashtag_count, dtype: float64"
      ]
     },
     "execution_count": 22,
     "metadata": {},
     "output_type": "execute_result"
    }
   ],
   "source": [
    "(df_raw[df_raw.target ==0].hashtag_count != 0).\\\n",
    "value_counts(normalize = True)"
   ]
  },
  {
   "cell_type": "markdown",
   "metadata": {},
   "source": [
    "Disaster tweets in general have more hashtags than non disaster tweets"
   ]
  },
  {
   "cell_type": "code",
   "execution_count": 23,
   "metadata": {
    "cell_style": "split"
   },
   "outputs": [
    {
     "data": {
      "image/png": "[encoded data removed]",
      "text/plain": [
       "<Figure size 432x288 with 1 Axes>"
      ]
     },
     "metadata": {},
     "output_type": "display_data"
    }
   ],
   "source": [
    "plt.hist(df_raw[df_raw.target ==1].hashtag_count);"
   ]
  },
  {
   "cell_type": "code",
   "execution_count": 24,
   "metadata": {
    "cell_style": "split"
   },
   "outputs": [
    {
     "data": {
      "image/png": "[encoded data removed]",
      "text/plain": [
       "<Figure size 432x288 with 1 Axes>"
      ]
     },
     "metadata": {},
     "output_type": "display_data"
    }
   ],
   "source": [
    "plt.hist(df_raw[df_raw.target ==0].hashtag_count);"
   ]
  },
  {
   "cell_type": "code",
   "execution_count": 25,
   "metadata": {},
   "outputs": [],
   "source": [
    "def plot_most_common_words(dataframe,col_name,num_words):\n",
    "    word_counter = Counter(dataframe[col_name].sum()).most_common(num_words)\n",
    "    words = [word for word,count in word_counter]\n",
    "    counts = [count for word,count in word_counter]\n",
    "    fig, ax = plt.subplots(figsize=(15,4))\n",
    "    sns.barplot(x = words, y = counts);\n",
    "    plt.tight_layout()\n",
    "    #print(word_counter)"
   ]
  },
  {
   "cell_type": "code",
   "execution_count": 26,
   "metadata": {},
   "outputs": [
    {
     "data": {
      "image/png": "[encoded data removed]",
      "text/plain": [
       "<Figure size 1080x288 with 1 Axes>"
      ]
     },
     "metadata": {},
     "output_type": "display_data"
    }
   ],
   "source": [
    "plot_most_common_words(df_raw[df_raw.target == 1], 'hashtags', 20)"
   ]
  },
  {
   "cell_type": "code",
   "execution_count": 27,
   "metadata": {},
   "outputs": [
    {
     "data": {
      "image/png": "[encoded data removed]",
      "text/plain": [
       "<Figure size 1080x288 with 1 Axes>"
      ]
     },
     "metadata": {},
     "output_type": "display_data"
    }
   ],
   "source": [
    "plot_most_common_words(df_raw[df_raw.target == 0], 'hashtags', 20)"
   ]
  },
  {
   "cell_type": "code",
   "execution_count": 28,
   "metadata": {},
   "outputs": [],
   "source": [
    "def hashtag_word_separator(text):\n",
    "    hashtags = re.findall(r'#([A-Za-z0-9]+)', text)#re.findall(r'#(\\S+)', text)\n",
    "    for tag in hashtags:\n",
    "        if (re.match(r'[A-Z][^A-Z]+[A-Z]',tag ))!= None:\n",
    "            #tag = re.sub('[^A-Za-z0-9]+', '', tag)#(for extreme cases like index 337, 2534 where hashtag followed by )\n",
    "            replacement = \" \".join(re.findall(r'[A-Z][a-z]+',tag))\n",
    "            text = re.sub('#'+tag, replacement, text)\n",
    "    return text\n",
    "\n",
    "def url_remover(text):\n",
    "    return re.sub (r'www\\S+|https?\\S+','', text)\n",
    "\n",
    "def twt_handle_remover(text):#Has not been used\n",
    "    return re.sub (r'@\\S+','', text)\n",
    "\n",
    "def special_char_num_remover(text):\n",
    "    return re.sub(r'[^A-Z^a-z^\\s^\\']',' ', text)\n",
    "\n",
    "def tweet_cleaner(text):\n",
    "    return special_char_num_remover((url_remover(hashtag_word_separator(text))))"
   ]
  },
  {
   "cell_type": "code",
   "execution_count": 29,
   "metadata": {
    "cell_style": "center"
   },
   "outputs": [],
   "source": [
    "df_raw['clean_tweet'] = df_raw.text.apply(tweet_cleaner)\n",
    "df_test['clean_tweet'] = df_test.text.apply(tweet_cleaner)"
   ]
  },
  {
   "cell_type": "code",
   "execution_count": 30,
   "metadata": {},
   "outputs": [],
   "source": [
    "def twt_tokenizer(text):\n",
    "    return [t for t in word_tokenize(text.lower()) if t not in nlp.Defaults.stop_words  and t!= '\\'']#can't, won't"
   ]
  },
  {
   "cell_type": "code",
   "execution_count": 31,
   "metadata": {},
   "outputs": [],
   "source": [
    "df_raw['nltk_nostop_lowercase_tokens'] = df_raw.clean_tweet.apply(twt_tokenizer)\n",
    "df_test['nltk_nostop_lowercase_tokens'] = df_test.clean_tweet.apply(twt_tokenizer)"
   ]
  },
  {
   "cell_type": "code",
   "execution_count": 32,
   "metadata": {},
   "outputs": [
    {
     "data": {
      "image/png": "[encoded data removed]",
      "text/plain": [
       "<Figure size 1080x288 with 1 Axes>"
      ]
     },
     "metadata": {},
     "output_type": "display_data"
    }
   ],
   "source": [
    "plot_most_common_words(df_raw[df_raw.target == 1], 'nltk_nostop_lowercase_tokens', 20)"
   ]
  },
  {
   "cell_type": "code",
   "execution_count": 33,
   "metadata": {},
   "outputs": [
    {
     "data": {
      "image/png": "[encoded data removed]",
      "text/plain": [
       "<Figure size 1080x288 with 1 Axes>"
      ]
     },
     "metadata": {},
     "output_type": "display_data"
    }
   ],
   "source": [
    "plot_most_common_words(df_raw[df_raw.target == 0], 'nltk_nostop_lowercase_tokens', 20)"
   ]
  },
  {
   "cell_type": "code",
   "execution_count": 34,
   "metadata": {},
   "outputs": [],
   "source": [
    "df_trn, df_val, _, _ = train_test_split(df_raw, df_raw['target'],test_size=0.33,stratify = df_raw['target'] ,random_state=42)"
   ]
  },
  {
   "cell_type": "code",
   "execution_count": 35,
   "metadata": {},
   "outputs": [
    {
     "data": {
      "text/html": [
       "<div>\n",
       "<style scoped>\n",
       "    .dataframe tbody tr th:only-of-type {\n",
       "        vertical-align: middle;\n",
       "    }\n",
       "\n",
       "    .dataframe tbody tr th {\n",
       "        vertical-align: top;\n",
       "    }\n",
       "\n",
       "    .dataframe thead th {\n",
       "        text-align: right;\n",
       "    }\n",
       "</style>\n",
       "<table border=\"1\" class=\"dataframe\">\n",
       "  <thead>\n",
       "    <tr style=\"text-align: right;\">\n",
       "      <th></th>\n",
       "      <th>id</th>\n",
       "      <th>keyword</th>\n",
       "      <th>location</th>\n",
       "      <th>text</th>\n",
       "      <th>target</th>\n",
       "      <th>len_twt</th>\n",
       "      <th>hashtags</th>\n",
       "      <th>hashtag_count</th>\n",
       "      <th>handles</th>\n",
       "      <th>handle_count</th>\n",
       "      <th>clean_tweet</th>\n",
       "      <th>nltk_nostop_lowercase_tokens</th>\n",
       "    </tr>\n",
       "  </thead>\n",
       "  <tbody>\n",
       "    <tr>\n",
       "      <th>854</th>\n",
       "      <td>1236</td>\n",
       "      <td>blood</td>\n",
       "      <td>???????, ??'??????</td>\n",
       "      <td>Blood Group  A +ve is associated with Gastric Carcinoma says text book...Another fragile gene in my body....</td>\n",
       "      <td>0</td>\n",
       "      <td>108</td>\n",
       "      <td>[]</td>\n",
       "      <td>0</td>\n",
       "      <td>[]</td>\n",
       "      <td>0</td>\n",
       "      <td>Blood Group  A  ve is associated with Gastric Carcinoma says text book   Another fragile gene in my body</td>\n",
       "      <td>[blood, group, ve, associated, gastric, carcinoma, says, text, book, fragile, gene, body]</td>\n",
       "    </tr>\n",
       "    <tr>\n",
       "      <th>5663</th>\n",
       "      <td>8081</td>\n",
       "      <td>rescue</td>\n",
       "      <td>Thornton  Colorado</td>\n",
       "      <td>Tell the United Nations: Plantations are NOT forests! https://t.co/cic7h64Qv8 via @RainforestResq</td>\n",
       "      <td>0</td>\n",
       "      <td>97</td>\n",
       "      <td>[]</td>\n",
       "      <td>0</td>\n",
       "      <td>[RainforestResq]</td>\n",
       "      <td>1</td>\n",
       "      <td>Tell the United Nations  Plantations are NOT forests   via  RainforestResq</td>\n",
       "      <td>[tell, united, nations, plantations, forests, rainforestresq]</td>\n",
       "    </tr>\n",
       "    <tr>\n",
       "      <th>2411</th>\n",
       "      <td>3470</td>\n",
       "      <td>derailed</td>\n",
       "      <td>USA</td>\n",
       "      <td>@stury Note there were no passengers on board when the train derailed this morning.</td>\n",
       "      <td>1</td>\n",
       "      <td>83</td>\n",
       "      <td>[]</td>\n",
       "      <td>0</td>\n",
       "      <td>[stury]</td>\n",
       "      <td>1</td>\n",
       "      <td>stury Note there were no passengers on board when the train derailed this morning</td>\n",
       "      <td>[stury, note, passengers, board, train, derailed, morning]</td>\n",
       "    </tr>\n",
       "    <tr>\n",
       "      <th>3611</th>\n",
       "      <td>5154</td>\n",
       "      <td>fatal</td>\n",
       "      <td>NaN</td>\n",
       "      <td>Investigators shift focus to cause of fatal Waimate fire http://t.co/aDSvDpNP3r</td>\n",
       "      <td>1</td>\n",
       "      <td>79</td>\n",
       "      <td>[]</td>\n",
       "      <td>0</td>\n",
       "      <td>[]</td>\n",
       "      <td>0</td>\n",
       "      <td>Investigators shift focus to cause of fatal Waimate fire</td>\n",
       "      <td>[investigators, shift, focus, cause, fatal, waimate, fire]</td>\n",
       "    </tr>\n",
       "    <tr>\n",
       "      <th>581</th>\n",
       "      <td>840</td>\n",
       "      <td>bioterror</td>\n",
       "      <td>Phoenix, AZ</td>\n",
       "      <td>FedEx to stop transporting bioterror germs after lab mishaps: FedEx has stopped transporting certain research ... http://t.co/y3dM9uLqxG</td>\n",
       "      <td>1</td>\n",
       "      <td>136</td>\n",
       "      <td>[]</td>\n",
       "      <td>0</td>\n",
       "      <td>[]</td>\n",
       "      <td>0</td>\n",
       "      <td>FedEx to stop transporting bioterror germs after lab mishaps  FedEx has stopped transporting certain research</td>\n",
       "      <td>[fedex, stop, transporting, bioterror, germs, lab, mishaps, fedex, stopped, transporting, certain, research]</td>\n",
       "    </tr>\n",
       "  </tbody>\n",
       "</table>\n",
       "</div>"
      ],
      "text/plain": [
       "        id    keyword            location  \\\n",
       "854   1236  blood      ???????, ??'??????   \n",
       "5663  8081  rescue     Thornton  Colorado   \n",
       "2411  3470  derailed   USA                  \n",
       "3611  5154  fatal      NaN                  \n",
       "581   840   bioterror  Phoenix, AZ          \n",
       "\n",
       "                                                                                                                                          text  \\\n",
       "854   Blood Group  A +ve is associated with Gastric Carcinoma says text book...Another fragile gene in my body....                               \n",
       "5663  Tell the United Nations: Plantations are NOT forests! https://t.co/cic7h64Qv8 via @RainforestResq                                          \n",
       "2411  @stury Note there were no passengers on board when the train derailed this morning.                                                        \n",
       "3611  Investigators shift focus to cause of fatal Waimate fire http://t.co/aDSvDpNP3r                                                            \n",
       "581   FedEx to stop transporting bioterror germs after lab mishaps: FedEx has stopped transporting certain research ... http://t.co/y3dM9uLqxG   \n",
       "\n",
       "      target  len_twt hashtags  hashtag_count           handles  handle_count  \\\n",
       "854   0       108      []       0              []                0              \n",
       "5663  0       97       []       0              [RainforestResq]  1              \n",
       "2411  1       83       []       0              [stury]           1              \n",
       "3611  1       79       []       0              []                0              \n",
       "581   1       136      []       0              []                0              \n",
       "\n",
       "                                                                                                             clean_tweet  \\\n",
       "854   Blood Group  A  ve is associated with Gastric Carcinoma says text book   Another fragile gene in my body             \n",
       "5663  Tell the United Nations  Plantations are NOT forests   via  RainforestResq                                           \n",
       "2411   stury Note there were no passengers on board when the train derailed this morning                                   \n",
       "3611  Investigators shift focus to cause of fatal Waimate fire                                                             \n",
       "581   FedEx to stop transporting bioterror germs after lab mishaps  FedEx has stopped transporting certain research        \n",
       "\n",
       "                                                                                      nltk_nostop_lowercase_tokens  \n",
       "854   [blood, group, ve, associated, gastric, carcinoma, says, text, book, fragile, gene, body]                     \n",
       "5663  [tell, united, nations, plantations, forests, rainforestresq]                                                 \n",
       "2411  [stury, note, passengers, board, train, derailed, morning]                                                    \n",
       "3611  [investigators, shift, focus, cause, fatal, waimate, fire]                                                    \n",
       "581   [fedex, stop, transporting, bioterror, germs, lab, mishaps, fedex, stopped, transporting, certain, research]  "
      ]
     },
     "execution_count": 35,
     "metadata": {},
     "output_type": "execute_result"
    }
   ],
   "source": [
    "df_trn.head()"
   ]
  },
  {
   "cell_type": "code",
   "execution_count": 36,
   "metadata": {},
   "outputs": [
    {
     "data": {
      "text/html": [
       "<div>\n",
       "<style scoped>\n",
       "    .dataframe tbody tr th:only-of-type {\n",
       "        vertical-align: middle;\n",
       "    }\n",
       "\n",
       "    .dataframe tbody tr th {\n",
       "        vertical-align: top;\n",
       "    }\n",
       "\n",
       "    .dataframe thead th {\n",
       "        text-align: right;\n",
       "    }\n",
       "</style>\n",
       "<table border=\"1\" class=\"dataframe\">\n",
       "  <thead>\n",
       "    <tr style=\"text-align: right;\">\n",
       "      <th></th>\n",
       "      <th>id</th>\n",
       "      <th>keyword</th>\n",
       "      <th>location</th>\n",
       "      <th>text</th>\n",
       "      <th>hashtags</th>\n",
       "      <th>hashtag_count</th>\n",
       "      <th>handles</th>\n",
       "      <th>handle_count</th>\n",
       "      <th>clean_tweet</th>\n",
       "      <th>nltk_nostop_lowercase_tokens</th>\n",
       "    </tr>\n",
       "  </thead>\n",
       "  <tbody>\n",
       "    <tr>\n",
       "      <th>0</th>\n",
       "      <td>0</td>\n",
       "      <td>NaN</td>\n",
       "      <td>NaN</td>\n",
       "      <td>Just happened a terrible car crash</td>\n",
       "      <td>[]</td>\n",
       "      <td>0</td>\n",
       "      <td>[]</td>\n",
       "      <td>0</td>\n",
       "      <td>Just happened a terrible car crash</td>\n",
       "      <td>[happened, terrible, car, crash]</td>\n",
       "    </tr>\n",
       "    <tr>\n",
       "      <th>1</th>\n",
       "      <td>2</td>\n",
       "      <td>NaN</td>\n",
       "      <td>NaN</td>\n",
       "      <td>Heard about #earthquake is different cities, stay safe everyone.</td>\n",
       "      <td>[earthquake]</td>\n",
       "      <td>1</td>\n",
       "      <td>[]</td>\n",
       "      <td>0</td>\n",
       "      <td>Heard about  earthquake is different cities  stay safe everyone</td>\n",
       "      <td>[heard, earthquake, different, cities, stay, safe]</td>\n",
       "    </tr>\n",
       "    <tr>\n",
       "      <th>2</th>\n",
       "      <td>3</td>\n",
       "      <td>NaN</td>\n",
       "      <td>NaN</td>\n",
       "      <td>there is a forest fire at spot pond, geese are fleeing across the street, I cannot save them all</td>\n",
       "      <td>[]</td>\n",
       "      <td>0</td>\n",
       "      <td>[]</td>\n",
       "      <td>0</td>\n",
       "      <td>there is a forest fire at spot pond  geese are fleeing across the street  I cannot save them all</td>\n",
       "      <td>[forest, fire, spot, pond, geese, fleeing, street, save]</td>\n",
       "    </tr>\n",
       "    <tr>\n",
       "      <th>3</th>\n",
       "      <td>9</td>\n",
       "      <td>NaN</td>\n",
       "      <td>NaN</td>\n",
       "      <td>Apocalypse lighting. #Spokane #wildfires</td>\n",
       "      <td>[spokane, wildfires]</td>\n",
       "      <td>2</td>\n",
       "      <td>[]</td>\n",
       "      <td>0</td>\n",
       "      <td>Apocalypse lighting   Spokane  wildfires</td>\n",
       "      <td>[apocalypse, lighting, spokane, wildfires]</td>\n",
       "    </tr>\n",
       "    <tr>\n",
       "      <th>4</th>\n",
       "      <td>11</td>\n",
       "      <td>NaN</td>\n",
       "      <td>NaN</td>\n",
       "      <td>Typhoon Soudelor kills 28 in China and Taiwan</td>\n",
       "      <td>[]</td>\n",
       "      <td>0</td>\n",
       "      <td>[]</td>\n",
       "      <td>0</td>\n",
       "      <td>Typhoon Soudelor kills    in China and Taiwan</td>\n",
       "      <td>[typhoon, soudelor, kills, china, taiwan]</td>\n",
       "    </tr>\n",
       "  </tbody>\n",
       "</table>\n",
       "</div>"
      ],
      "text/plain": [
       "   id keyword location  \\\n",
       "0  0   NaN     NaN       \n",
       "1  2   NaN     NaN       \n",
       "2  3   NaN     NaN       \n",
       "3  9   NaN     NaN       \n",
       "4  11  NaN     NaN       \n",
       "\n",
       "                                                                                               text  \\\n",
       "0  Just happened a terrible car crash                                                                 \n",
       "1  Heard about #earthquake is different cities, stay safe everyone.                                   \n",
       "2  there is a forest fire at spot pond, geese are fleeing across the street, I cannot save them all   \n",
       "3  Apocalypse lighting. #Spokane #wildfires                                                           \n",
       "4  Typhoon Soudelor kills 28 in China and Taiwan                                                      \n",
       "\n",
       "               hashtags  hashtag_count handles  handle_count  \\\n",
       "0  []                    0              []      0              \n",
       "1  [earthquake]          1              []      0              \n",
       "2  []                    0              []      0              \n",
       "3  [spokane, wildfires]  2              []      0              \n",
       "4  []                    0              []      0              \n",
       "\n",
       "                                                                                        clean_tweet  \\\n",
       "0  Just happened a terrible car crash                                                                 \n",
       "1  Heard about  earthquake is different cities  stay safe everyone                                    \n",
       "2  there is a forest fire at spot pond  geese are fleeing across the street  I cannot save them all   \n",
       "3  Apocalypse lighting   Spokane  wildfires                                                           \n",
       "4  Typhoon Soudelor kills    in China and Taiwan                                                      \n",
       "\n",
       "                               nltk_nostop_lowercase_tokens  \n",
       "0  [happened, terrible, car, crash]                          \n",
       "1  [heard, earthquake, different, cities, stay, safe]        \n",
       "2  [forest, fire, spot, pond, geese, fleeing, street, save]  \n",
       "3  [apocalypse, lighting, spokane, wildfires]                \n",
       "4  [typhoon, soudelor, kills, china, taiwan]                 "
      ]
     },
     "execution_count": 36,
     "metadata": {},
     "output_type": "execute_result"
    }
   ],
   "source": [
    "df_test.head()"
   ]
  },
  {
   "cell_type": "code",
   "execution_count": 37,
   "metadata": {
    "cell_style": "center"
   },
   "outputs": [],
   "source": [
    "tfidf_vectorizer = TfidfVectorizer(stop_words='english')\n",
    "tfidf_train = tfidf_vectorizer.fit_transform(df_trn.clean_tweet)\n",
    "tfidf_val = tfidf_vectorizer.transform(df_val.clean_tweet)\n",
    "tfidf_test = tfidf_vectorizer.transform(df_test.clean_tweet)"
   ]
  },
  {
   "cell_type": "code",
   "execution_count": 58,
   "metadata": {},
   "outputs": [
    {
     "name": "stdout",
     "output_type": "stream",
     "text": [
      "0.7500000000000001\n"
     ]
    }
   ],
   "source": [
    "nb_classifier_tfidf = MultinomialNB()\n",
    "nb_classifier_tfidf.fit(tfidf_train,df_trn.target)\n",
    "df_val['NB_Tfidf'] = nb_classifier_tfidf.predict(tfidf_val)\n",
    "df_test['NB_Tfidf'] = nb_classifier_tfidf.predict(tfidf_test)\n",
    "NB_tfidf_score = metrics.f1_score(df_val['target'],df_val['NB_Tfidf'])\n",
    "print(NB_tfidf_score)"
   ]
  },
  {
   "cell_type": "code",
   "execution_count": 57,
   "metadata": {},
   "outputs": [
    {
     "name": "stdout",
     "output_type": "stream",
     "text": [
      "0.7505175983436854\n"
     ]
    }
   ],
   "source": [
    "logreg_classifier_tfidf = LogisticRegression()\n",
    "logreg_classifier_tfidf.fit(tfidf_train,df_trn.target)\n",
    "df_val['Logreg_Tfidf'] = logreg_classifier_tfidf.predict(tfidf_val)\n",
    "df_test['Logreg_Tfidf'] = logreg_classifier_tfidf.predict(tfidf_test)\n",
    "logreg_tfidf_score = metrics.f1_score(df_val['target'],df_val['Logreg_Tfidf'])\n",
    "print(logreg_tfidf_score)"
   ]
  },
  {
   "cell_type": "code",
   "execution_count": 56,
   "metadata": {},
   "outputs": [
    {
     "name": "stdout",
     "output_type": "stream",
     "text": [
      "0.7591674925668979\n"
     ]
    }
   ],
   "source": [
    "df_val['NB_LR_combo'] = (df_val.Logreg_Tfidf + df_val.NB_Tfidf).astype(bool).astype(int)\n",
    "NB_LR_comb_score = metrics.f1_score(df_val['target'],df_val['NB_LR_combo'])\n",
    "print(NB_LR_comb_score)"
   ]
  },
  {
   "cell_type": "code",
   "execution_count": 41,
   "metadata": {},
   "outputs": [],
   "source": [
    "df_NB_Tfidf = pd.DataFrame({'id':df_test['id'],'target':df_test['NB_Tfidf']})\n",
    "#df_NB_Tfidf.to_csv('clean_twt_hashtag_separator_handles_presnt_NB_tfidf.csv',index = False)"
   ]
  },
  {
   "cell_type": "code",
   "execution_count": 42,
   "metadata": {},
   "outputs": [],
   "source": [
    "df_Logreg_Tfidf = pd.DataFrame({'id':df_test['id'],'target':df_test['Logreg_Tfidf']})\n",
    "#df_Logreg_Tfidf.to_csv('clean_twt_hashtag_separate_handles_present_Logreg_tfidf.csv',index = False)"
   ]
  },
  {
   "cell_type": "code",
   "execution_count": 43,
   "metadata": {},
   "outputs": [],
   "source": [
    "df_Logreg_Tfidf_47 = pd.DataFrame({'id':df_test['id'],'target':(logreg_classifier_tfidf.predict_proba(tfidf_test)[:,1]>0.47).astype(int)})\n",
    "#df_Logreg_Tfidf.to_csv('clean_twt_hashtag_separate_handles_present_Logreg_tfidf_0.47_threshold.csv',index = False)"
   ]
  },
  {
   "cell_type": "code",
   "execution_count": 59,
   "metadata": {},
   "outputs": [
    {
     "data": {
      "text/plain": [
       "0.7644135188866799"
      ]
     },
     "execution_count": 59,
     "metadata": {},
     "output_type": "execute_result"
    }
   ],
   "source": [
    "metrics.f1_score(df_val['target'],(logreg_classifier_tfidf.predict_proba(tfidf_val)[:,1]>0.47).astype(int))"
   ]
  },
  {
   "cell_type": "code",
   "execution_count": 45,
   "metadata": {},
   "outputs": [
    {
     "data": {
      "text/plain": [
       "False    2369\n",
       "True     144 \n",
       "dtype: int64"
      ]
     },
     "execution_count": 45,
     "metadata": {},
     "output_type": "execute_result"
    }
   ],
   "source": [
    "(df_val.Logreg_Tfidf != df_val.NB_Tfidf).value_counts()"
   ]
  },
  {
   "cell_type": "code",
   "execution_count": 52,
   "metadata": {},
   "outputs": [
    {
     "data": {
      "text/plain": [
       "(1261, 172, 314, 766)"
      ]
     },
     "execution_count": 52,
     "metadata": {},
     "output_type": "execute_result"
    }
   ],
   "source": [
    "tn, fp, fn, tp = metrics.confusion_matrix(df_val.target,df_val['NB_LR_combo']).ravel()\n",
    "tn, fp, fn, tp"
   ]
  },
  {
   "cell_type": "code",
   "execution_count": 47,
   "metadata": {},
   "outputs": [
    {
     "data": {
      "text/plain": [
       "(1306, 127, 355, 725)"
      ]
     },
     "execution_count": 47,
     "metadata": {},
     "output_type": "execute_result"
    }
   ],
   "source": [
    "tn, fp, fn, tp = metrics.confusion_matrix(df_val.target,df_val.Logreg_Tfidf).ravel()\n",
    "tn, fp, fn, tp"
   ]
  },
  {
   "cell_type": "code",
   "execution_count": 48,
   "metadata": {},
   "outputs": [
    {
     "data": {
      "text/plain": [
       "0    1575\n",
       "2    794 \n",
       "1    144 \n",
       "dtype: int64"
      ]
     },
     "execution_count": 48,
     "metadata": {},
     "output_type": "execute_result"
    }
   ],
   "source": [
    "(df_val.Logreg_Tfidf + df_val.NB_Tfidf).value_counts()"
   ]
  },
  {
   "cell_type": "code",
   "execution_count": 49,
   "metadata": {},
   "outputs": [],
   "source": [
    "df_diagnostics = df_val[df_val.target != df_val.NB_Tfidf][['text','clean_tweet','target','NB_Tfidf']]"
   ]
  },
  {
   "cell_type": "code",
   "execution_count": 50,
   "metadata": {},
   "outputs": [
    {
     "data": {
      "text/html": [
       "<div>\n",
       "<style scoped>\n",
       "    .dataframe tbody tr th:only-of-type {\n",
       "        vertical-align: middle;\n",
       "    }\n",
       "\n",
       "    .dataframe tbody tr th {\n",
       "        vertical-align: top;\n",
       "    }\n",
       "\n",
       "    .dataframe thead th {\n",
       "        text-align: right;\n",
       "    }\n",
       "</style>\n",
       "<table border=\"1\" class=\"dataframe\">\n",
       "  <thead>\n",
       "    <tr style=\"text-align: right;\">\n",
       "      <th></th>\n",
       "      <th>text</th>\n",
       "      <th>clean_tweet</th>\n",
       "    </tr>\n",
       "  </thead>\n",
       "  <tbody>\n",
       "    <tr>\n",
       "      <th>7447</th>\n",
       "      <td>@mattmosley post a pic of your wounds please</td>\n",
       "      <td>mattmosley post a pic of your wounds please</td>\n",
       "    </tr>\n",
       "    <tr>\n",
       "      <th>2416</th>\n",
       "      <td>Has #IdentityTheft Derailed Your #TaxReturn? \\n8 Steps for Cleaning Up an  #IdentityTheft Train Wreck. #CRI\\nhttp://t.co/gxQWD1qZBd</td>\n",
       "      <td>Has Identity Theft Derailed Your Tax Return  \\n  Steps for Cleaning Up an  Identity Theft Train Wreck   CRI\\n</td>\n",
       "    </tr>\n",
       "    <tr>\n",
       "      <th>4249</th>\n",
       "      <td>@rawfoodbliss I'm in the middle of a humid heat wave and a patch on my forehead flared up. I take olive oli extract and 4 tbs olive oil</td>\n",
       "      <td>rawfoodbliss I'm in the middle of a humid heat wave and a patch on my forehead flared up  I take olive oli extract and   tbs olive oil</td>\n",
       "    </tr>\n",
       "    <tr>\n",
       "      <th>1823</th>\n",
       "      <td>@johndcgow heard this few days ago while driving and near crashed the car from laughing to much</td>\n",
       "      <td>johndcgow heard this few days ago while driving and near crashed the car from laughing to much</td>\n",
       "    </tr>\n",
       "    <tr>\n",
       "      <th>6703</th>\n",
       "      <td>L B #Oklahoma #Thunder DURANT NBA ADIDAS OKLAHOMA CITY THUNDER YOUTH LARGE SWINGMAN JERSEY RETAIL $75 #NBA #Durant http://t.co/T81oayjoWC</td>\n",
       "      <td>L B  Oklahoma  Thunder DURANT NBA ADIDAS OKLAHOMA CITY THUNDER YOUTH LARGE SWINGMAN JERSEY RETAIL      NBA  Durant</td>\n",
       "    </tr>\n",
       "    <tr>\n",
       "      <th>5463</th>\n",
       "      <td>.@slosheriff: 2 South Gate police officers and 2 Huntington Park officers arrested after child abuse investigation at boot camp</td>\n",
       "      <td>slosheriff    South Gate police officers and   Huntington Park officers arrested after child abuse investigation at boot camp</td>\n",
       "    </tr>\n",
       "    <tr>\n",
       "      <th>2086</th>\n",
       "      <td>@AtchisonSean he is dead</td>\n",
       "      <td>AtchisonSean he is dead</td>\n",
       "    </tr>\n",
       "    <tr>\n",
       "      <th>4912</th>\n",
       "      <td>Is this the creepiest youth camp ever?. http://t.co/T8uqm7Imir</td>\n",
       "      <td>Is this the creepiest youth camp ever</td>\n",
       "    </tr>\n",
       "    <tr>\n",
       "      <th>120</th>\n",
       "      <td>#WisdomWed BONUS - 5 Minute Daily Habits that could really improve your life. How many do you already do? #lifehacks http://t.co/TBm9FQb8cW</td>\n",
       "      <td>Wisdom Wed BONUS     Minute Daily Habits that could really improve your life  How many do you already do   lifehacks</td>\n",
       "    </tr>\n",
       "    <tr>\n",
       "      <th>4476</th>\n",
       "      <td>#hot  C-130 specially modified to land in a stadium and rescue hostages in Iran in 1980 http://t.co/zY3hpdJNwg #prebreak #best</td>\n",
       "      <td>hot  C     specially modified to land in a stadium and rescue hostages in Iran in        prebreak  best</td>\n",
       "    </tr>\n",
       "  </tbody>\n",
       "</table>\n",
       "</div>"
      ],
      "text/plain": [
       "                                                                                                                                             text  \\\n",
       "7447  @mattmosley post a pic of your wounds please                                                                                                  \n",
       "2416  Has #IdentityTheft Derailed Your #TaxReturn? \\n8 Steps for Cleaning Up an  #IdentityTheft Train Wreck. #CRI\\nhttp://t.co/gxQWD1qZBd           \n",
       "4249  @rawfoodbliss I'm in the middle of a humid heat wave and a patch on my forehead flared up. I take olive oli extract and 4 tbs olive oil       \n",
       "1823  @johndcgow heard this few days ago while driving and near crashed the car from laughing to much                                               \n",
       "6703  L B #Oklahoma #Thunder DURANT NBA ADIDAS OKLAHOMA CITY THUNDER YOUTH LARGE SWINGMAN JERSEY RETAIL $75 #NBA #Durant http://t.co/T81oayjoWC     \n",
       "5463  .@slosheriff: 2 South Gate police officers and 2 Huntington Park officers arrested after child abuse investigation at boot camp               \n",
       "2086  @AtchisonSean he is dead                                                                                                                      \n",
       "4912  Is this the creepiest youth camp ever?. http://t.co/T8uqm7Imir                                                                                \n",
       "120   #WisdomWed BONUS - 5 Minute Daily Habits that could really improve your life. How many do you already do? #lifehacks http://t.co/TBm9FQb8cW   \n",
       "4476  #hot  C-130 specially modified to land in a stadium and rescue hostages in Iran in 1980 http://t.co/zY3hpdJNwg #prebreak #best                \n",
       "\n",
       "                                                                                                                                  clean_tweet  \n",
       "7447   mattmosley post a pic of your wounds please                                                                                             \n",
       "2416  Has Identity Theft Derailed Your Tax Return  \\n  Steps for Cleaning Up an  Identity Theft Train Wreck   CRI\\n                            \n",
       "4249   rawfoodbliss I'm in the middle of a humid heat wave and a patch on my forehead flared up  I take olive oli extract and   tbs olive oil  \n",
       "1823   johndcgow heard this few days ago while driving and near crashed the car from laughing to much                                          \n",
       "6703  L B  Oklahoma  Thunder DURANT NBA ADIDAS OKLAHOMA CITY THUNDER YOUTH LARGE SWINGMAN JERSEY RETAIL      NBA  Durant                       \n",
       "5463    slosheriff    South Gate police officers and   Huntington Park officers arrested after child abuse investigation at boot camp          \n",
       "2086   AtchisonSean he is dead                                                                                                                 \n",
       "4912  Is this the creepiest youth camp ever                                                                                                    \n",
       "120   Wisdom Wed BONUS     Minute Daily Habits that could really improve your life  How many do you already do   lifehacks                     \n",
       "4476   hot  C     specially modified to land in a stadium and rescue hostages in Iran in        prebreak  best                                 "
      ]
     },
     "execution_count": 50,
     "metadata": {},
     "output_type": "execute_result"
    }
   ],
   "source": [
    "df_diagnostics[df_diagnostics.target == 0].sample(n = 10)[['text','clean_tweet']]"
   ]
  },
  {
   "cell_type": "code",
   "execution_count": 51,
   "metadata": {},
   "outputs": [
    {
     "data": {
      "text/html": [
       "<div>\n",
       "<style scoped>\n",
       "    .dataframe tbody tr th:only-of-type {\n",
       "        vertical-align: middle;\n",
       "    }\n",
       "\n",
       "    .dataframe tbody tr th {\n",
       "        vertical-align: top;\n",
       "    }\n",
       "\n",
       "    .dataframe thead th {\n",
       "        text-align: right;\n",
       "    }\n",
       "</style>\n",
       "<table border=\"1\" class=\"dataframe\">\n",
       "  <thead>\n",
       "    <tr style=\"text-align: right;\">\n",
       "      <th></th>\n",
       "      <th>text</th>\n",
       "      <th>clean_tweet</th>\n",
       "    </tr>\n",
       "  </thead>\n",
       "  <tbody>\n",
       "    <tr>\n",
       "      <th>4332</th>\n",
       "      <td>Plans by former First Lady and wife of ex-President Goodluck Jonathan Dame Patience Jonathan to hijack the All... http://t.co/HaShGQAFic</td>\n",
       "      <td>Plans by former First Lady and wife of ex President Goodluck Jonathan Dame Patience Jonathan to hijack the All</td>\n",
       "    </tr>\n",
       "    <tr>\n",
       "      <th>1891</th>\n",
       "      <td>Man crushed to death by own car http://t.co/CrPO9DkW9v</td>\n",
       "      <td>Man crushed to death by own car</td>\n",
       "    </tr>\n",
       "    <tr>\n",
       "      <th>5114</th>\n",
       "      <td>Chernobyl disaster - Wikipedia the free encyclopedia don't you just love the nuclear technology it's so glorious  https://t.co/GHucazjSxB</td>\n",
       "      <td>Chernobyl disaster   Wikipedia the free encyclopedia don't you just love the nuclear technology it's so glorious</td>\n",
       "    </tr>\n",
       "    <tr>\n",
       "      <th>5772</th>\n",
       "      <td>Riot police intervene after Southampton and Vitesse Arnhem supporters clash: Û¢ Fans clash in buildup to second... http://t.co/sKVNmtZGeG</td>\n",
       "      <td>Riot police intervene after Southampton and Vitesse Arnhem supporters clash      Fans clash in buildup to second</td>\n",
       "    </tr>\n",
       "    <tr>\n",
       "      <th>7218</th>\n",
       "      <td>Agreed there - especially on automatic weapons. There's no legitimate reason for needing one @Argus_99 @HeidiA1438</td>\n",
       "      <td>Agreed there   especially on automatic weapons  There's no legitimate reason for needing one  Argus     HeidiA</td>\n",
       "    </tr>\n",
       "    <tr>\n",
       "      <th>3254</th>\n",
       "      <td>@godsfirstson1 and she wrapped his coat around herself. It practically engulfed her.</td>\n",
       "      <td>godsfirstson  and she wrapped his coat around herself  It practically engulfed her</td>\n",
       "    </tr>\n",
       "    <tr>\n",
       "      <th>4318</th>\n",
       "      <td>The Prophet (peace be upon him) said 'Save yourself from Hellfire even if it is by giving half a date in charity.'</td>\n",
       "      <td>The Prophet  peace be upon him  said 'Save yourself from Hellfire even if it is by giving half a date in charity '</td>\n",
       "    </tr>\n",
       "    <tr>\n",
       "      <th>7292</th>\n",
       "      <td>This past week has been an absolute whirlwind.... Athens bound</td>\n",
       "      <td>This past week has been an absolute whirlwind     Athens bound</td>\n",
       "    </tr>\n",
       "    <tr>\n",
       "      <th>1207</th>\n",
       "      <td>Messi: has tattoos so he can't donate blood\\nRonaldo: runs into burning buildings to save dogs #respect</td>\n",
       "      <td>Messi  has tattoos so he can't donate blood\\nRonaldo  runs into burning buildings to save dogs  respect</td>\n",
       "    </tr>\n",
       "    <tr>\n",
       "      <th>6925</th>\n",
       "      <td>Strawberries are in big trouble. Scientists race to find solution. http://t.co/MqydXRLae7 http://t.co/EpJjkB4Be9</td>\n",
       "      <td>Strawberries are in big trouble  Scientists race to find solution</td>\n",
       "    </tr>\n",
       "  </tbody>\n",
       "</table>\n",
       "</div>"
      ],
      "text/plain": [
       "                                                                                                                                            text  \\\n",
       "4332  Plans by former First Lady and wife of ex-President Goodluck Jonathan Dame Patience Jonathan to hijack the All... http://t.co/HaShGQAFic     \n",
       "1891  Man crushed to death by own car http://t.co/CrPO9DkW9v                                                                                       \n",
       "5114  Chernobyl disaster - Wikipedia the free encyclopedia don't you just love the nuclear technology it's so glorious  https://t.co/GHucazjSxB    \n",
       "5772  Riot police intervene after Southampton and Vitesse Arnhem supporters clash: Û¢ Fans clash in buildup to second... http://t.co/sKVNmtZGeG   \n",
       "7218  Agreed there - especially on automatic weapons. There's no legitimate reason for needing one @Argus_99 @HeidiA1438                           \n",
       "3254  @godsfirstson1 and she wrapped his coat around herself. It practically engulfed her.                                                         \n",
       "4318  The Prophet (peace be upon him) said 'Save yourself from Hellfire even if it is by giving half a date in charity.'                           \n",
       "7292  This past week has been an absolute whirlwind.... Athens bound                                                                               \n",
       "1207  Messi: has tattoos so he can't donate blood\\nRonaldo: runs into burning buildings to save dogs #respect                                      \n",
       "6925  Strawberries are in big trouble. Scientists race to find solution. http://t.co/MqydXRLae7 http://t.co/EpJjkB4Be9                             \n",
       "\n",
       "                                                                                                               clean_tweet  \n",
       "4332  Plans by former First Lady and wife of ex President Goodluck Jonathan Dame Patience Jonathan to hijack the All        \n",
       "1891  Man crushed to death by own car                                                                                       \n",
       "5114  Chernobyl disaster   Wikipedia the free encyclopedia don't you just love the nuclear technology it's so glorious      \n",
       "5772  Riot police intervene after Southampton and Vitesse Arnhem supporters clash      Fans clash in buildup to second      \n",
       "7218  Agreed there   especially on automatic weapons  There's no legitimate reason for needing one  Argus     HeidiA        \n",
       "3254   godsfirstson  and she wrapped his coat around herself  It practically engulfed her                                   \n",
       "4318  The Prophet  peace be upon him  said 'Save yourself from Hellfire even if it is by giving half a date in charity '    \n",
       "7292  This past week has been an absolute whirlwind     Athens bound                                                        \n",
       "1207  Messi  has tattoos so he can't donate blood\\nRonaldo  runs into burning buildings to save dogs  respect               \n",
       "6925  Strawberries are in big trouble  Scientists race to find solution                                                     "
      ]
     },
     "execution_count": 51,
     "metadata": {},
     "output_type": "execute_result"
    }
   ],
   "source": [
    "df_diagnostics[df_diagnostics.target == 1].sample(n = 10)[['text','clean_tweet']]"
   ]
  },
  {
   "cell_type": "code",
   "execution_count": 55,
   "metadata": {},
   "outputs": [
    {
     "name": "stdout",
     "output_type": "stream",
     "text": [
      "0.7954635893354556\n",
      "0.8058097890966972\n"
     ]
    }
   ],
   "source": [
    "count_vectorizer_bigram = CountVectorizer(stop_words='english',ngram_range=(1, 2))\n",
    "count_train_bigram = count_vectorizer_bigram.fit_transform(df_trn.clean_tweet)\n",
    "count_val_bigram = count_vectorizer_bigram.transform(df_val.clean_tweet)\n",
    "count_test_bigram = count_vectorizer_bigram.transform(df_test.clean_tweet)\n",
    "\n",
    "nb_classifier_count_bigram = MultinomialNB()\n",
    "nb_classifier_count_bigram.fit(count_train_bigram,df_trn.target)\n",
    "df_val['NB_Count_bigram'] = nb_classifier_count_bigram.predict(count_val_bigram)\n",
    "df_test['NB_Count_bigram'] = nb_classifier_count_bigram.predict(count_test_bigram)\n",
    "NB_count_score_bigram = metrics.accuracy_score(df_val['target'],df_val['NB_Count_bigram'])\n",
    "print(NB_count_score_bigram)\n",
    "\n",
    "logreg_classifier_count_bigram = LogisticRegression()\n",
    "logreg_classifier_count_bigram.fit(count_train_bigram,df_trn.target)\n",
    "df_val['Logreg_Count_bigram'] = logreg_classifier_count_bigram.predict(count_val_bigram)\n",
    "df_test['Logreg_Count_bigram'] = logreg_classifier_count_bigram.predict(count_test_bigram)\n",
    "logreg_count_score_bigram = metrics.accuracy_score(df_val['target'],df_val['Logreg_Count_bigram'])\n",
    "print(logreg_count_score_bigram)"
   ]
  }
 ],
 "metadata": {
  "kernelspec": {
   "display_name": "Python 3",
   "language": "python",
   "name": "python3"
  },
  "language_info": {
   "codemirror_mode": {
    "name": "ipython",
    "version": 3
   },
   "file_extension": ".py",
   "mimetype": "text/x-python",
   "name": "python",
   "nbconvert_exporter": "python",
   "pygments_lexer": "ipython3",
   "version": "3.6.10"
  }
 },
 "nbformat": 4,
 "nbformat_minor": 2
}
